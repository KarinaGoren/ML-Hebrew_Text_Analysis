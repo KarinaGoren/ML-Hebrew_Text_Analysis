{
 "cells": [
  {
   "cell_type": "markdown",
   "metadata": {},
   "source": [
    "# Assignment 3 - Text Analysis\n",
    "An explanation this assignment could be found in the .pdf explanation document"
   ]
  },
  {
   "cell_type": "markdown",
   "metadata": {},
   "source": [
    "\n",
    "## Materials to review for this assignment\n",
    "<h4>From Moodle:</h4> \n",
    "<h5><u>Review the notebooks regarding the following python topics</u>:</h5>\n",
    "<div class=\"alert alert-info\">\n",
    "&#x2714; <b>Working with strings</b> (tutorial notebook)<br/>\n",
    "&#x2714; <b>Text Analysis</b> (tutorial notebook)<br/>\n",
    "&#x2714; <b>Hebrew text analysis tools (tokenizer, wordnet)</b> (moodle example)<br/>\n",
    "&#x2714; <b>(brief review) All previous notebooks</b><br/>\n",
    "</div> \n",
    "<h5><u>Review the presentations regarding the following topics</u>:</h5>\n",
    "<div class=\"alert alert-info\">\n",
    "&#x2714; <b>Text Analysis</b> (lecture presentation)<br/>\n",
    "&#x2714; <b>(brief review) All other presentations</b><br/>\n",
    "</div>"
   ]
  },
  {
   "cell_type": "markdown",
   "metadata": {},
   "source": [
    "## Personal Details:"
   ]
  },
  {
   "cell_type": "code",
   "execution_count": 1,
   "metadata": {},
   "outputs": [],
   "source": [
    "# Details Student 1:\n",
    "# Karin Shulman Goren 206056905\n",
    "# Details Student 2:\n",
    "# Daniel Arama 313452096"
   ]
  },
  {
   "cell_type": "markdown",
   "metadata": {},
   "source": [
    "## Preceding Step - import modules (packages)\n",
    "This step is necessary in order to use external modules (packages). <br/>"
   ]
  },
  {
   "cell_type": "code",
   "execution_count": 2,
   "metadata": {},
   "outputs": [],
   "source": [
    "# --------------------------------------\n",
    "import pandas as pd\n",
    "import numpy as np\n",
    "# --------------------------------------\n",
    "\n",
    "\n",
    "# --------------------------------------\n",
    "# ------------- visualizations:\n",
    "import seaborn as sns\n",
    "import matplotlib.pyplot as plt\n",
    "from matplotlib.colors import ListedColormap\n",
    "# --------------------------------------\n",
    "\n",
    "\n",
    "# ---------------------------------------\n",
    "import sklearn\n",
    "from sklearn import preprocessing, metrics, pipeline, model_selection, feature_extraction \n",
    "from sklearn import naive_bayes, linear_model, svm, neural_network, neighbors, tree\n",
    "from sklearn import decomposition, cluster\n",
    "\n",
    "from sklearn.model_selection import train_test_split, cross_val_score, GridSearchCV \n",
    "from sklearn.pipeline import Pipeline\n",
    "from sklearn.metrics import accuracy_score, confusion_matrix\n",
    "from sklearn.metrics import precision_score, recall_score, f1_score\n",
    "from sklearn.metrics import mean_squared_error, r2_score, silhouette_score\n",
    "from sklearn.preprocessing import MinMaxScaler, StandardScaler, LabelEncoder\n",
    "\n",
    "from sklearn.svm import LinearSVC\n",
    "from sklearn.neural_network import MLPClassifier\n",
    "from sklearn.linear_model import Perceptron, SGDClassifier\n",
    "from sklearn.decomposition import PCA\n",
    "from sklearn.cluster import KMeans\n",
    "from sklearn.naive_bayes import MultinomialNB, GaussianNB\n",
    "from sklearn.neighbors import KNeighborsClassifier\n",
    "from sklearn.tree import DecisionTreeClassifier\n",
    "# ---------------------------------------\n",
    "\n",
    "\n",
    "# ----------------- output and visualizations: \n",
    "import warnings\n",
    "from sklearn.exceptions import ConvergenceWarning\n",
    "warnings.simplefilter(\"ignore\")\n",
    "warnings.simplefilter(action='ignore', category=FutureWarning)\n",
    "warnings.simplefilter(\"ignore\", category=ConvergenceWarning)\n",
    "# show several prints in one cell. This will allow us to condence every trick in one cell.\n",
    "from IPython.core.interactiveshell import InteractiveShell\n",
    "InteractiveShell.ast_node_interactivity = \"all\"\n",
    "%matplotlib inline\n",
    "pd.pandas.set_option('display.max_columns', None)\n",
    "pd.set_option('display.float_format', lambda x: '%.3f' % x)\n",
    "# ---------------------------------------"
   ]
  },
  {
   "cell_type": "markdown",
   "metadata": {},
   "source": [
    "### Text analysis and String manipulation imports:"
   ]
  },
  {
   "cell_type": "code",
   "execution_count": 3,
   "metadata": {},
   "outputs": [],
   "source": [
    "# --------------------------------------\n",
    "# --------- Text analysis and Hebrew text analysis imports:\n",
    "# vectorizers:\n",
    "from sklearn.feature_extraction import text\n",
    "from sklearn.feature_extraction.text import CountVectorizer, TfidfVectorizer\n",
    "\n",
    "# regular expressions:\n",
    "import re\n",
    "# --------------------------------------"
   ]
  },
  {
   "cell_type": "markdown",
   "metadata": {},
   "source": [
    "### (optional) Hebrew text analysis - WordNet (for Hebrew)\n",
    "Note: the WordNet is not a must"
   ]
  },
  {
   "cell_type": "markdown",
   "metadata": {},
   "source": [
    "#### (optional) Only if you didn't install Wordnet (for Hebrew) use:"
   ]
  },
  {
   "cell_type": "code",
   "execution_count": 4,
   "metadata": {},
   "outputs": [],
   "source": [
    "# word net installation:\n",
    "\n",
    "# unmark if you want to use and need to install\n",
    "# !pip install wn\n",
    "# !python -m wn download omw-he:1.4"
   ]
  },
  {
   "cell_type": "code",
   "execution_count": 5,
   "metadata": {},
   "outputs": [],
   "source": [
    "# word net import:\n",
    "\n",
    "# unmark if you want to use:\n",
    "# import wn"
   ]
  },
  {
   "cell_type": "markdown",
   "metadata": {},
   "source": [
    "### (optional) Hebrew text analysis - hebrew_tokenizer (Tokenizer for Hebrew)\n",
    "Note: the hebrew_tokenizer is not a must"
   ]
  },
  {
   "cell_type": "markdown",
   "metadata": {},
   "source": [
    "#### (optional) Only if you didn't install hebrew_tokenizer use:"
   ]
  },
  {
   "cell_type": "code",
   "execution_count": 6,
   "metadata": {},
   "outputs": [],
   "source": [
    "# Hebrew tokenizer installation:\n",
    "\n",
    "# unmark if you want to use and need to install:\n",
    "# !pip install hebrew_tokenizer"
   ]
  },
  {
   "cell_type": "code",
   "execution_count": 7,
   "metadata": {},
   "outputs": [
    {
     "name": "stdout",
     "output_type": "stream",
     "text": [
      "C:\\Users\\Daniel Arama\\Desktop\\Matala3\\assignment3-text_analysis\\assignment3-text_analysis\n"
     ]
    }
   ],
   "source": [
    "# Hebrew tokenizer import:\n",
    "\n",
    "# unmark if you want to use:\n",
    "import hebrew_tokenizer as ht"
   ]
  },
  {
   "cell_type": "markdown",
   "metadata": {},
   "source": [
    "### Reading input files\n",
    "Reading input files for train annotated corpus (raw text data) corpus and for the test corpus"
   ]
  },
  {
   "cell_type": "code",
   "execution_count": 8,
   "metadata": {},
   "outputs": [],
   "source": [
    "train_filename = 'annotated_corpus_for_train.csv'\n",
    "test_filename  = 'corpus_for_test.csv'\n",
    "df_train = pd.read_csv(train_filename, index_col=None, encoding='utf-8')\n",
    "df_test  = pd.read_csv(test_filename, index_col=None, encoding='utf-8')"
   ]
  },
  {
   "cell_type": "code",
   "execution_count": 9,
   "metadata": {},
   "outputs": [
    {
     "data": {
      "text/html": [
       "<div>\n",
       "<style scoped>\n",
       "    .dataframe tbody tr th:only-of-type {\n",
       "        vertical-align: middle;\n",
       "    }\n",
       "\n",
       "    .dataframe tbody tr th {\n",
       "        vertical-align: top;\n",
       "    }\n",
       "\n",
       "    .dataframe thead th {\n",
       "        text-align: right;\n",
       "    }\n",
       "</style>\n",
       "<table border=\"1\" class=\"dataframe\">\n",
       "  <thead>\n",
       "    <tr style=\"text-align: right;\">\n",
       "      <th></th>\n",
       "      <th>story</th>\n",
       "      <th>gender</th>\n",
       "    </tr>\n",
       "  </thead>\n",
       "  <tbody>\n",
       "    <tr>\n",
       "      <th>0</th>\n",
       "      <td>כשחבר הזמין אותי לחול, לא באמת חשבתי שזה יקרה,...</td>\n",
       "      <td>m</td>\n",
       "    </tr>\n",
       "    <tr>\n",
       "      <th>1</th>\n",
       "      <td>לפני שהתגייסתי לצבא עשיתי כל מני מיונים ליחידו...</td>\n",
       "      <td>m</td>\n",
       "    </tr>\n",
       "    <tr>\n",
       "      <th>2</th>\n",
       "      <td>מאז שהתחילו הלימודים חלומו של כל סטודנט זה הפנ...</td>\n",
       "      <td>f</td>\n",
       "    </tr>\n",
       "    <tr>\n",
       "      <th>3</th>\n",
       "      <td>כשהייתי ילד, מטוסים היה הדבר שהכי ריתק אותי. ב...</td>\n",
       "      <td>m</td>\n",
       "    </tr>\n",
       "    <tr>\n",
       "      <th>4</th>\n",
       "      <td>‏הייתי מדריכה בכפר נוער ומתאם הכפר היינו צריכי...</td>\n",
       "      <td>f</td>\n",
       "    </tr>\n",
       "    <tr>\n",
       "      <th>5</th>\n",
       "      <td>לפני כ3 חודשים טסתי לרומא למשך שבוע. טסתי במטו...</td>\n",
       "      <td>f</td>\n",
       "    </tr>\n",
       "    <tr>\n",
       "      <th>6</th>\n",
       "      <td>אני כבר שנתיים נשוי והשנה אני ואישתי סוף סוף י...</td>\n",
       "      <td>m</td>\n",
       "    </tr>\n",
       "    <tr>\n",
       "      <th>7</th>\n",
       "      <td>השנה התחלנו שיפוץ בדירה שלנו בתל אביב. הדירה ה...</td>\n",
       "      <td>f</td>\n",
       "    </tr>\n",
       "  </tbody>\n",
       "</table>\n",
       "</div>"
      ],
      "text/plain": [
       "                                               story gender\n",
       "0  כשחבר הזמין אותי לחול, לא באמת חשבתי שזה יקרה,...      m\n",
       "1  לפני שהתגייסתי לצבא עשיתי כל מני מיונים ליחידו...      m\n",
       "2  מאז שהתחילו הלימודים חלומו של כל סטודנט זה הפנ...      f\n",
       "3  כשהייתי ילד, מטוסים היה הדבר שהכי ריתק אותי. ב...      m\n",
       "4  ‏הייתי מדריכה בכפר נוער ומתאם הכפר היינו צריכי...      f\n",
       "5  לפני כ3 חודשים טסתי לרומא למשך שבוע. טסתי במטו...      f\n",
       "6  אני כבר שנתיים נשוי והשנה אני ואישתי סוף סוף י...      m\n",
       "7  השנה התחלנו שיפוץ בדירה שלנו בתל אביב. הדירה ה...      f"
      ]
     },
     "execution_count": 9,
     "metadata": {},
     "output_type": "execute_result"
    },
    {
     "data": {
      "text/plain": [
       "(753, 2)"
      ]
     },
     "execution_count": 9,
     "metadata": {},
     "output_type": "execute_result"
    }
   ],
   "source": [
    "df_train.head(8)\n",
    "df_train.shape"
   ]
  },
  {
   "cell_type": "code",
   "execution_count": 10,
   "metadata": {},
   "outputs": [
    {
     "data": {
      "text/html": [
       "<div>\n",
       "<style scoped>\n",
       "    .dataframe tbody tr th:only-of-type {\n",
       "        vertical-align: middle;\n",
       "    }\n",
       "\n",
       "    .dataframe tbody tr th {\n",
       "        vertical-align: top;\n",
       "    }\n",
       "\n",
       "    .dataframe thead th {\n",
       "        text-align: right;\n",
       "    }\n",
       "</style>\n",
       "<table border=\"1\" class=\"dataframe\">\n",
       "  <thead>\n",
       "    <tr style=\"text-align: right;\">\n",
       "      <th></th>\n",
       "      <th>test_example_id</th>\n",
       "      <th>story</th>\n",
       "    </tr>\n",
       "  </thead>\n",
       "  <tbody>\n",
       "    <tr>\n",
       "      <th>0</th>\n",
       "      <td>0</td>\n",
       "      <td>כל קיץ אני והמשפחה נוסעים לארצות הברית לוס אנג...</td>\n",
       "    </tr>\n",
       "    <tr>\n",
       "      <th>1</th>\n",
       "      <td>1</td>\n",
       "      <td>הגעתי לשירות המדינה אחרי שנתיים כפעיל בתנועת \"...</td>\n",
       "    </tr>\n",
       "    <tr>\n",
       "      <th>2</th>\n",
       "      <td>2</td>\n",
       "      <td>אחת האהבות הגדולות שלי אלו הכלבים שלי ושל אישת...</td>\n",
       "    </tr>\n",
       "  </tbody>\n",
       "</table>\n",
       "</div>"
      ],
      "text/plain": [
       "   test_example_id                                              story\n",
       "0                0  כל קיץ אני והמשפחה נוסעים לארצות הברית לוס אנג...\n",
       "1                1  הגעתי לשירות המדינה אחרי שנתיים כפעיל בתנועת \"...\n",
       "2                2  אחת האהבות הגדולות שלי אלו הכלבים שלי ושל אישת..."
      ]
     },
     "execution_count": 10,
     "metadata": {},
     "output_type": "execute_result"
    },
    {
     "data": {
      "text/plain": [
       "(323, 2)"
      ]
     },
     "execution_count": 10,
     "metadata": {},
     "output_type": "execute_result"
    }
   ],
   "source": [
    "df_test.head(3)\n",
    "df_test.shape"
   ]
  },
  {
   "cell_type": "markdown",
   "metadata": {},
   "source": [
    "### Your implementation:\n",
    "Write your code solution in the following code-cells"
   ]
  },
  {
   "cell_type": "markdown",
   "metadata": {},
   "source": [
    "#### <u>Exploring the data</u>\n",
    "Counting females and males."
   ]
  },
  {
   "cell_type": "code",
   "execution_count": 43,
   "metadata": {},
   "outputs": [
    {
     "data": {
      "image/png": "[encoded data removed]",
      "text/plain": [
       "<Figure size 500x500 with 1 Axes>"
      ]
     },
     "metadata": {},
     "output_type": "display_data"
    }
   ],
   "source": [
    "#Count females and males\n",
    "gender_counts = df_train['gender'].value_counts()\n",
    "plt.figure(figsize=(5, 5))\n",
    "plt.pie(gender_counts, labels=gender_counts.index,colors=['lightblue', 'pink'], autopct='%1.1f%%')\n",
    "plt.title('Percentage of Females vs Males')\n",
    "plt.show();"
   ]
  },
  {
   "cell_type": "markdown",
   "metadata": {},
   "source": [
    "Creating visualization dataframe to explore the number of words, punctuation marks, dates and hours in each story as well as the writer's gender. "
   ]
  },
  {
   "cell_type": "code",
   "execution_count": 12,
   "metadata": {},
   "outputs": [],
   "source": [
    "#Tokenizer for visualization\n",
    "def visualize_tokenizer(text):\n",
    "    tokens = ht.tokenize(text)\n",
    "    counter_list = [0,0,0,0]\n",
    "    for grp, token, token_num, (start_index, end_index) in tokens:\n",
    "        if grp == \"HEBREW\":\n",
    "            counter_list[0] += 1\n",
    "        if grp == \"PUNCTUATION\":\n",
    "            counter_list[1] += 1\n",
    "        if grp == \"DATE\":\n",
    "            counter_list[2] += 1\n",
    "        if grp == \"HOUR\":\n",
    "            counter_list[3] += 1\n",
    "    return counter_list"
   ]
  },
  {
   "cell_type": "code",
   "execution_count": 13,
   "metadata": {},
   "outputs": [
    {
     "data": {
      "text/html": [
       "<div>\n",
       "<style scoped>\n",
       "    .dataframe tbody tr th:only-of-type {\n",
       "        vertical-align: middle;\n",
       "    }\n",
       "\n",
       "    .dataframe tbody tr th {\n",
       "        vertical-align: top;\n",
       "    }\n",
       "\n",
       "    .dataframe thead th {\n",
       "        text-align: right;\n",
       "    }\n",
       "</style>\n",
       "<table border=\"1\" class=\"dataframe\">\n",
       "  <thead>\n",
       "    <tr style=\"text-align: right;\">\n",
       "      <th></th>\n",
       "      <th>story</th>\n",
       "      <th>gender</th>\n",
       "      <th>HEBREW</th>\n",
       "      <th>PUNCTUATION</th>\n",
       "      <th>DATE</th>\n",
       "      <th>HOUR</th>\n",
       "    </tr>\n",
       "  </thead>\n",
       "  <tbody>\n",
       "    <tr>\n",
       "      <th>0</th>\n",
       "      <td>כשחבר הזמין אותי לחול, לא באמת חשבתי שזה יקרה,...</td>\n",
       "      <td>m</td>\n",
       "      <td>417</td>\n",
       "      <td>90</td>\n",
       "      <td>0</td>\n",
       "      <td>0</td>\n",
       "    </tr>\n",
       "    <tr>\n",
       "      <th>1</th>\n",
       "      <td>לפני שהתגייסתי לצבא עשיתי כל מני מיונים ליחידו...</td>\n",
       "      <td>m</td>\n",
       "      <td>345</td>\n",
       "      <td>48</td>\n",
       "      <td>0</td>\n",
       "      <td>0</td>\n",
       "    </tr>\n",
       "    <tr>\n",
       "      <th>2</th>\n",
       "      <td>מאז שהתחילו הלימודים חלומו של כל סטודנט זה הפנ...</td>\n",
       "      <td>f</td>\n",
       "      <td>297</td>\n",
       "      <td>26</td>\n",
       "      <td>0</td>\n",
       "      <td>0</td>\n",
       "    </tr>\n",
       "    <tr>\n",
       "      <th>3</th>\n",
       "      <td>כשהייתי ילד, מטוסים היה הדבר שהכי ריתק אותי. ב...</td>\n",
       "      <td>m</td>\n",
       "      <td>428</td>\n",
       "      <td>68</td>\n",
       "      <td>0</td>\n",
       "      <td>0</td>\n",
       "    </tr>\n",
       "    <tr>\n",
       "      <th>4</th>\n",
       "      <td>‏הייתי מדריכה בכפר נוער ומתאם הכפר היינו צריכי...</td>\n",
       "      <td>f</td>\n",
       "      <td>309</td>\n",
       "      <td>25</td>\n",
       "      <td>0</td>\n",
       "      <td>0</td>\n",
       "    </tr>\n",
       "  </tbody>\n",
       "</table>\n",
       "</div>"
      ],
      "text/plain": [
       "                                               story gender  HEBREW  \\\n",
       "0  כשחבר הזמין אותי לחול, לא באמת חשבתי שזה יקרה,...      m     417   \n",
       "1  לפני שהתגייסתי לצבא עשיתי כל מני מיונים ליחידו...      m     345   \n",
       "2  מאז שהתחילו הלימודים חלומו של כל סטודנט זה הפנ...      f     297   \n",
       "3  כשהייתי ילד, מטוסים היה הדבר שהכי ריתק אותי. ב...      m     428   \n",
       "4  ‏הייתי מדריכה בכפר נוער ומתאם הכפר היינו צריכי...      f     309   \n",
       "\n",
       "   PUNCTUATION  DATE  HOUR  \n",
       "0           90     0     0  \n",
       "1           48     0     0  \n",
       "2           26     0     0  \n",
       "3           68     0     0  \n",
       "4           25     0     0  "
      ]
     },
     "execution_count": 13,
     "metadata": {},
     "output_type": "execute_result"
    }
   ],
   "source": [
    "#Dateframe for vizualization \n",
    "df_visualize = df_train.copy()\n",
    "results = df_visualize['story'].apply(visualize_tokenizer)\n",
    "df_visualize['HEBREW'] = results.apply(lambda x: x[0])\n",
    "df_visualize['PUNCTUATION'] = results.apply(lambda x: x[1])\n",
    "df_visualize['DATE'] = results.apply(lambda x: x[2])\n",
    "df_visualize['HOUR'] = results.apply(lambda x: x[3])\n",
    "df_visualize.head()"
   ]
  },
  {
   "cell_type": "code",
   "execution_count": 14,
   "metadata": {},
   "outputs": [
    {
     "name": "stdout",
     "output_type": "stream",
     "text": [
      "0    748\n",
      "1      4\n",
      "2      1\n",
      "Name: DATE, dtype: int64\n",
      "0    713\n",
      "1     22\n",
      "2     11\n",
      "3      4\n",
      "7      2\n",
      "9      1\n",
      "Name: HOUR, dtype: int64\n"
     ]
    }
   ],
   "source": [
    "print(df_visualize['DATE'].value_counts())\n",
    "print(df_visualize['HOUR'].value_counts())"
   ]
  },
  {
   "cell_type": "markdown",
   "metadata": {},
   "source": [
    "We can see that the DATE column is mostly 0, and that only 40 stories have HOUR in them.</br>\n",
    "we can assume that most of the stories have different hours in them so a specific hour value won't even be in the dataframe.</br> Therefore both dates and hours won't help in the prediction.</br>\n",
    "Now visualize the number of words, and number of punctuation marks per gender."
   ]
  },
  {
   "cell_type": "code",
   "execution_count": 45,
   "metadata": {},
   "outputs": [
    {
     "data": {
      "image/png": "[encoded data removed]",
      "text/plain": [
       "<Figure size 500x500 with 1 Axes>"
      ]
     },
     "metadata": {},
     "output_type": "display_data"
    }
   ],
   "source": [
    "plt.figure(figsize=(5, 5))\n",
    "colors = {'m': 'lightblue', 'f': 'pink'}\n",
    "sns.scatterplot(data=df_visualize, x='HEBREW', y='PUNCTUATION', hue='gender', palette=colors)\n",
    "plt.title('Number of hebrew words and punctuation marks per gender')\n",
    "plt.show();"
   ]
  },
  {
   "cell_type": "markdown",
   "metadata": {},
   "source": [
    "We can see from the graph, most of the data points are around 350 hebrew words and 30 punctuation marks.</br>\n",
    "Also, the punctuation marks appear in almost every story, so the IDF in TfidfVectorization will score them 0 and they will hold no weight to them.</br>\n",
    "There is no significant difference between the genders, and therefore they won't help us determine whether a story was written by female or male.</br>"
   ]
  },
  {
   "cell_type": "markdown",
   "metadata": {},
   "source": [
    "Visualize word with 2 letters or less, we are guessing most of them are stop words."
   ]
  },
  {
   "cell_type": "code",
   "execution_count": 16,
   "metadata": {},
   "outputs": [],
   "source": [
    "def visualize_stop_word_tokenizer(text):\n",
    "    tokens = ht.tokenize(text)\n",
    "    word_list = []\n",
    "    for grp, token, token_num, (start_index, end_index) in tokens:\n",
    "        if grp == \"HEBREW\" and len(token) <= 2:\n",
    "            word_list.append(token)\n",
    "    word_list = list(set(word_list))\n",
    "    return word_list"
   ]
  },
  {
   "cell_type": "code",
   "execution_count": 17,
   "metadata": {},
   "outputs": [
    {
     "data": {
      "text/plain": [
       "array(['זה', 'כן', 'על', 'קמ', 'אם', 'כי', 'של', 'אז', 'לו', 'פה', 'כל',\n",
       "       'עם', 'רק', 'בו', 'שם', 'די', 'עד', 'לא', 'מה', 'את', 'לה', 'לי',\n",
       "       'מי', 'בח', 'הם', 'בן', 'ל', 'יש', 'אף', 'גם', 'כך', 'קל', 'בי',\n",
       "       'אי', 'או', 'שש', 'יב', 'ר', 'אל', 'דל', 'ס', 'חם', 'הן', 'כ',\n",
       "       'גן', 'גר', 'בת', 'לך', 'אך', 'עז', 'בה', 'ז', 'ים', 'תת', 'מ',\n",
       "       'צד', 'קם', 'דם', 'תה', 'זו', 'יד', 'כה', 'א', 'ד', 'לב', 'רב',\n",
       "       'בר', 'ג', 'חד', 'םא', 'ש', 'ול', 'בד', 'ב', 'ו', 'אה', 'מא', 'ה',\n",
       "       'דפ', 'כף', 'אט', 'שב', 'מת', 'בא', 'קר', 'גו', 'י', 'ע', 'חג',\n",
       "       'בך', 'רם', 'טק', 'סך', 'מס', 'ח', 'מד', 'עץ', 'שר', 'חל', 'דק',\n",
       "       'דה', 'נח', 'זז', 'פי', 'קץ', 'תו', 'גב', 'רע', 'אץ', 'עת', 'מר',\n",
       "       'לם', 'מק', 'שף', 'דן', 'רץ', 'פס', 'זר', 'נס', 'תל', 'מן', 'אש',\n",
       "       'פק', 'צב', 'כח', 'הנ', 'הר', 'חס', 'טל', 'דף', 'אק', 'צק', 'טו',\n",
       "       'גק', 'ת', 'ט', 'אח', 'ככ', 'חן', 'צץ', 'גג', 'וב', 'אמ', 'אר',\n",
       "       'אג', 'דג', 'צל', 'נו', 'לד', 'בק', 'גז', 'שח', 'חי', 'טס', 'ק',\n",
       "       'נר', 'עף', 'תן', 'סל', 'תא', 'בכ', 'צר', 'אפ', 'פז', 'לכ', 'קו',\n",
       "       'קצ', 'קש', 'תש', 'פ', 'ם', 'דב', 'צה', 'גל', 'רך', 'רף', 'סף',\n",
       "       'כק', 'נץ', 'כם', 'פח', 'שי', 'צ', 'סן', 'ךא', 'ער', 'ץ', 'מו',\n",
       "       'צו', 'ף', 'נ', 'נק', 'הד', 'וי', 'וה', 'יא', 'אב', 'הז', 'שק',\n",
       "       'הג', 'תם', 'קח', 'סה', 'דו', 'נע', 'הא', 'מג', 'שה', 'סמ', 'אס',\n",
       "       'קד', 'הי', 'גס', 'זד', 'הב', 'צא', 'וכ', 'עפ', 'ממ', 'דד', 'ךי',\n",
       "       'יו', 'פג', 'ן', 'קכ', 'בב', 'כד', 'חש', 'סי', 'חץ', 'אנ', 'הו',\n",
       "       'זן', 'שס', 'נד', 'קת', 'לע', 'בם', 'חה', 'גף', 'בל', 'קק', 'בש'],\n",
       "      dtype=object)"
      ]
     },
     "execution_count": 17,
     "metadata": {},
     "output_type": "execute_result"
    }
   ],
   "source": [
    "all_word_lists = df_visualize['story'].apply(visualize_stop_word_tokenizer)\n",
    "all_word_lists = all_word_lists.explode().dropna().unique()\n",
    "all_word_lists"
   ]
  },
  {
   "cell_type": "markdown",
   "metadata": {},
   "source": [
    "Our assumption was wrong, we can find in the list many 2 characters word that are meaningful: hot, cold, tree, sing, fish etc. </br> We thought check 1 letter \"words\" too but 1 letter words may also have meaning like \"ה\" - god or meaningful grammar error like \"ש רציתי\".</br> In conclusion we can't remove words based on thier length."
   ]
  },
  {
   "cell_type": "markdown",
   "metadata": {},
   "source": [
    "### <u>Exploring Algorithms</u>\n",
    "Encoding female and male."
   ]
  },
  {
   "cell_type": "code",
   "execution_count": 18,
   "metadata": {},
   "outputs": [
    {
     "data": {
      "text/plain": [
       "0    כשחבר הזמין אותי לחול, לא באמת חשבתי שזה יקרה,...\n",
       "1    לפני שהתגייסתי לצבא עשיתי כל מני מיונים ליחידו...\n",
       "2    מאז שהתחילו הלימודים חלומו של כל סטודנט זה הפנ...\n",
       "3    כשהייתי ילד, מטוסים היה הדבר שהכי ריתק אותי. ב...\n",
       "4    ‏הייתי מדריכה בכפר נוער ומתאם הכפר היינו צריכי...\n",
       "Name: story, dtype: object"
      ]
     },
     "execution_count": 18,
     "metadata": {},
     "output_type": "execute_result"
    },
    {
     "data": {
      "text/plain": [
       "array([1, 1, 0, 1, 0])"
      ]
     },
     "execution_count": 18,
     "metadata": {},
     "output_type": "execute_result"
    }
   ],
   "source": [
    "#Encoding 'm' as 1 and 'f' as 0\n",
    "label_encoder = LabelEncoder()\n",
    "X = df_train['story']\n",
    "y = label_encoder.fit_transform(df_train['gender'])\n",
    "X.head()\n",
    "y[:5]"
   ]
  },
  {
   "cell_type": "markdown",
   "metadata": {},
   "source": [
    "In the exploration stage we saw only the words are meaningful to our prediction.</br>\n",
    "Build the tokenizer warpper accordingly."
   ]
  },
  {
   "cell_type": "code",
   "execution_count": 19,
   "metadata": {},
   "outputs": [],
   "source": [
    "#Only hebrew words tokenizer\n",
    "def tokenize_heb(text):\n",
    "    tokens = ht.tokenize(text)\n",
    "    token_list = []\n",
    "    for grp, token, token_num, (start_index, end_index) in tokens:\n",
    "        if grp == \"HEBREW\":\n",
    "            token_list.append(token)\n",
    "    return token_list"
   ]
  },
  {
   "cell_type": "markdown",
   "metadata": {},
   "source": [
    "### <u>KNN</u>"
   ]
  },
  {
   "cell_type": "code",
   "execution_count": 20,
   "metadata": {},
   "outputs": [
    {
     "data": {
      "text/plain": [
       "GridSearchCV(cv=10,\n",
       "             estimator=Pipeline(steps=[('vect', CountVectorizer()),\n",
       "                                       ('norm', Normalizer()),\n",
       "                                       ('clf_knn', KNeighborsClassifier())]),\n",
       "             param_grid={'clf_knn__n_neighbors': [5, 7, 9, 13, 19],\n",
       "                         'norm__norm': ['l1', 'l2'],\n",
       "                         'vect__max_features': [1000, 5000, 10000, 30000],\n",
       "                         'vect__ngram_range': [(1, 1), (2, 2), (3, 3)],\n",
       "                         'vect__tokenizer': [<function tokenize_heb at 0x00000147C939FE50>]},\n",
       "             scoring='f1_macro')"
      ]
     },
     "execution_count": 20,
     "metadata": {},
     "output_type": "execute_result"
    },
    {
     "name": "stdout",
     "output_type": "stream",
     "text": [
      "Best parameter (CV score=0.579):\n",
      "{'clf_knn__n_neighbors': 5, 'norm__norm': 'l2', 'vect__max_features': 30000, 'vect__ngram_range': (2, 2), 'vect__tokenizer': <function tokenize_heb at 0x00000147C939FE50>}\n"
     ]
    }
   ],
   "source": [
    "#KNN CountVectorizer\n",
    "knn_cv_pipe = Pipeline([\n",
    "    ('vect', CountVectorizer()),\n",
    "    ('norm', preprocessing.Normalizer()),\n",
    "    ('clf_knn', KNeighborsClassifier())\n",
    "])\n",
    "knn_cv_param_grid = {\n",
    "    \"vect__tokenizer\": [tokenize_heb],\n",
    "    \"vect__max_features\": [1000, 5000, 10000, 30000],\n",
    "    \"vect__ngram_range\": [(1,1), (2,2), (3,3)],\n",
    "    \"norm__norm\": ['l1', 'l2'],\n",
    "    \"clf_knn__n_neighbors\": [5, 7, 9, 13, 19]\n",
    "}\n",
    "search_knn_cv = GridSearchCV(knn_cv_pipe, knn_cv_param_grid, cv = 10, scoring='f1_macro')\n",
    "search_knn_cv.fit(X, y)\n",
    "print(\"Best parameter (CV score=%0.3f):\" % search_knn_cv.best_score_)\n",
    "print(search_knn_cv.best_params_)"
   ]
  },
  {
   "cell_type": "code",
   "execution_count": 21,
   "metadata": {},
   "outputs": [
    {
     "data": {
      "text/plain": [
       "GridSearchCV(cv=10,\n",
       "             estimator=Pipeline(steps=[('vect', TfidfVectorizer()),\n",
       "                                       ('clf_knn', KNeighborsClassifier())]),\n",
       "             param_grid={'clf_knn__n_neighbors': [5, 7, 9, 13, 19],\n",
       "                         'vect__max_df': [0.5, 0.75, 1],\n",
       "                         'vect__max_features': [1000, 5000, 10000, 30000],\n",
       "                         'vect__ngram_range': [(1, 1), (2, 2), (3, 3)],\n",
       "                         'vect__tokenizer': [<function tokenize_heb at 0x00000147C939FE50>]},\n",
       "             scoring='f1_macro')"
      ]
     },
     "execution_count": 21,
     "metadata": {},
     "output_type": "execute_result"
    },
    {
     "name": "stdout",
     "output_type": "stream",
     "text": [
      "Best parameter (CV score=0.637):\n",
      "{'clf_knn__n_neighbors': 5, 'vect__max_df': 0.5, 'vect__max_features': 10000, 'vect__ngram_range': (2, 2), 'vect__tokenizer': <function tokenize_heb at 0x00000147C939FE50>}\n"
     ]
    }
   ],
   "source": [
    "#KNN TfidfVectorizer\n",
    "knn_tfidfv_pipe = Pipeline([\n",
    "    ('vect', TfidfVectorizer()),\n",
    "    ('clf_knn', KNeighborsClassifier())\n",
    "])\n",
    "knn_tfidfv_param_grid = {\n",
    "    \"vect__tokenizer\": [tokenize_heb],\n",
    "    \"vect__max_features\": [1000, 5000, 10000, 30000],\n",
    "    \"vect__ngram_range\": [(1,1), (2,2), (3,3)],\n",
    "    \"vect__max_df\": [0.5, 0.75, 1],\n",
    "    \"clf_knn__n_neighbors\": [5, 7, 9, 13, 19]\n",
    "}\n",
    "search_knn_tfidfv = GridSearchCV(knn_tfidfv_pipe, knn_tfidfv_param_grid, cv = 10, scoring='f1_macro')\n",
    "search_knn_tfidfv.fit(X, y)\n",
    "print(\"Best parameter (CV score=%0.3f):\" % search_knn_tfidfv.best_score_)\n",
    "print(search_knn_tfidfv.best_params_)"
   ]
  },
  {
   "cell_type": "markdown",
   "metadata": {},
   "source": [
    "KNN\n",
    "* Best model: KNN with TfidfVectorizer and the parameters: max_df = 0.5, maximum_features = 10,000 and 2 word ngrams for the vectorizer,</br> and 5 neighbors for KNN.</br>\n",
    "* Average f1 score: 63.7%"
   ]
  },
  {
   "cell_type": "markdown",
   "metadata": {},
   "source": [
    "### <u>Multinominal Naive Bayes</u>"
   ]
  },
  {
   "cell_type": "code",
   "execution_count": 22,
   "metadata": {},
   "outputs": [
    {
     "data": {
      "text/plain": [
       "GridSearchCV(cv=10,\n",
       "             estimator=Pipeline(steps=[('vect', CountVectorizer()),\n",
       "                                       ('norm', Normalizer()),\n",
       "                                       ('clf_nb', MultinomialNB())]),\n",
       "             param_grid={'norm__norm': ['l1', 'l2'],\n",
       "                         'vect__max_features': [1000, 5000, 10000, 30000],\n",
       "                         'vect__ngram_range': [(1, 1), (2, 2), (3, 3)],\n",
       "                         'vect__tokenizer': [<function tokenize_heb at 0x00000147C939FE50>]},\n",
       "             scoring='f1_macro')"
      ]
     },
     "execution_count": 22,
     "metadata": {},
     "output_type": "execute_result"
    },
    {
     "name": "stdout",
     "output_type": "stream",
     "text": [
      "Best parameter (CV score=0.466):\n",
      "{'norm__norm': 'l2', 'vect__max_features': 1000, 'vect__ngram_range': (3, 3), 'vect__tokenizer': <function tokenize_heb at 0x00000147C939FE50>}\n"
     ]
    }
   ],
   "source": [
    "#Multinominal Naive Bayes CountVectorizer\n",
    "mnb_cv_pipe = Pipeline([\n",
    "    ('vect', CountVectorizer()),\n",
    "    ('norm', preprocessing.Normalizer()),\n",
    "    ('clf_nb', MultinomialNB())\n",
    "])\n",
    "mnb_cv_param_grid = {\n",
    "    \"vect__tokenizer\": [tokenize_heb],\n",
    "    \"vect__max_features\": [1000, 5000, 10000,30000],\n",
    "    \"vect__ngram_range\": [(1,1), (2,2), (3,3)],\n",
    "    \"norm__norm\": ['l1', 'l2']\n",
    "}\n",
    "search_mnb_cv = GridSearchCV(mnb_cv_pipe, mnb_cv_param_grid, cv = 10, scoring='f1_macro')\n",
    "search_mnb_cv.fit(X, y)\n",
    "print(\"Best parameter (CV score=%0.3f):\" % search_mnb_cv.best_score_)\n",
    "print(search_mnb_cv.best_params_)"
   ]
  },
  {
   "cell_type": "code",
   "execution_count": 23,
   "metadata": {},
   "outputs": [
    {
     "data": {
      "text/plain": [
       "GridSearchCV(cv=10,\n",
       "             estimator=Pipeline(steps=[('vect', TfidfVectorizer()),\n",
       "                                       ('clf_nb', MultinomialNB())]),\n",
       "             param_grid={'vect__max_df': [0.5, 0.75, 1],\n",
       "                         'vect__max_features': [1000, 5000, 10000, 30000],\n",
       "                         'vect__ngram_range': [(1, 1), (2, 2), (3, 3)],\n",
       "                         'vect__tokenizer': [<function tokenize_heb at 0x00000147C939FE50>]},\n",
       "             scoring='f1_macro')"
      ]
     },
     "execution_count": 23,
     "metadata": {},
     "output_type": "execute_result"
    },
    {
     "name": "stdout",
     "output_type": "stream",
     "text": [
      "Best parameter (CV score=0.466):\n",
      "{'vect__max_df': 0.5, 'vect__max_features': 1000, 'vect__ngram_range': (3, 3), 'vect__tokenizer': <function tokenize_heb at 0x00000147C939FE50>}\n"
     ]
    }
   ],
   "source": [
    "#Multinominal Naive Bayes TfidfVectorizer\n",
    "mnb_tfidfv_pipe = Pipeline([\n",
    "    ('vect', TfidfVectorizer()),\n",
    "    ('clf_nb', MultinomialNB())\n",
    "])\n",
    "mnb_tfidfv_param_grid = {\n",
    "    \"vect__tokenizer\": [tokenize_heb],\n",
    "    \"vect__max_features\": [1000, 5000, 10000, 30000],\n",
    "    \"vect__max_df\": [0.5, 0.75, 1],\n",
    "    \"vect__ngram_range\": [(1,1), (2,2), (3,3)]\n",
    "}\n",
    "search_mnb_tfidfv = GridSearchCV(mnb_tfidfv_pipe, mnb_tfidfv_param_grid, cv = 10, scoring='f1_macro')\n",
    "search_mnb_tfidfv.fit(X, y)\n",
    "print(\"Best parameter (CV score=%0.3f):\" % search_mnb_tfidfv.best_score_)\n",
    "print(search_mnb_tfidfv.best_params_)"
   ]
  },
  {
   "cell_type": "markdown",
   "metadata": {},
   "source": [
    "Multinominal Naive Bayes</br>\n",
    "Both models achieved the same score 46.6%, which is the lowest score we got."
   ]
  },
  {
   "cell_type": "markdown",
   "metadata": {},
   "source": [
    "### <u>Decision Tree</u>"
   ]
  },
  {
   "cell_type": "code",
   "execution_count": 24,
   "metadata": {},
   "outputs": [
    {
     "data": {
      "text/plain": [
       "GridSearchCV(cv=10,\n",
       "             estimator=Pipeline(steps=[('vect', CountVectorizer()),\n",
       "                                       ('norm', Normalizer()),\n",
       "                                       ('clf_dt', DecisionTreeClassifier())]),\n",
       "             param_grid={'clf_dt__max_depth': [3, 5, 7],\n",
       "                         'clf_dt__min_samples_split': [30, 40, 50],\n",
       "                         'norm__norm': ['l1', 'l2'],\n",
       "                         'vect__max_features': [1000, 5000, 10000, 30000],\n",
       "                         'vect__ngram_range': [(1, 1), (2, 2), (3, 3)],\n",
       "                         'vect__tokenizer': [<function tokenize_heb at 0x00000147C939FE50>]},\n",
       "             scoring='f1_macro')"
      ]
     },
     "execution_count": 24,
     "metadata": {},
     "output_type": "execute_result"
    },
    {
     "name": "stdout",
     "output_type": "stream",
     "text": [
      "Best parameter (CV score=0.631):\n",
      "{'clf_dt__max_depth': 7, 'clf_dt__min_samples_split': 40, 'norm__norm': 'l2', 'vect__max_features': 1000, 'vect__ngram_range': (1, 1), 'vect__tokenizer': <function tokenize_heb at 0x00000147C939FE50>}\n"
     ]
    }
   ],
   "source": [
    "#Decision Tree CountVectorizer\n",
    "dt_cv_pipe = Pipeline([\n",
    "    ('vect', CountVectorizer()),\n",
    "    ('norm', preprocessing.Normalizer()),\n",
    "    ('clf_dt', DecisionTreeClassifier()),\n",
    "])\n",
    "dt_cv_param_grid = {\n",
    "    \"vect__tokenizer\": [tokenize_heb],\n",
    "    \"vect__ngram_range\": [(1,1), (2,2), (3,3)],\n",
    "    \"vect__max_features\": [1000, 5000, 10000, 30000],\n",
    "    \"norm__norm\": ['l1', 'l2'],\n",
    "    \"clf_dt__max_depth\": [3, 5, 7],\n",
    "    \"clf_dt__min_samples_split\": [30, 40, 50]\n",
    "}\n",
    "search_dt_cv = GridSearchCV(dt_cv_pipe, dt_cv_param_grid, cv = 10, scoring='f1_macro')\n",
    "search_dt_cv.fit(X, y)\n",
    "print(\"Best parameter (CV score=%0.3f):\" % search_dt_cv.best_score_)\n",
    "print(search_dt_cv.best_params_)"
   ]
  },
  {
   "cell_type": "code",
   "execution_count": 25,
   "metadata": {},
   "outputs": [
    {
     "data": {
      "text/plain": [
       "GridSearchCV(cv=10,\n",
       "             estimator=Pipeline(steps=[('vect', TfidfVectorizer()),\n",
       "                                       ('clf_dt', DecisionTreeClassifier())]),\n",
       "             param_grid={'clf_dt__max_depth': [3, 5, 7],\n",
       "                         'clf_dt__min_samples_split': [30, 40, 50],\n",
       "                         'vect__max_df': [0.5, 0.75, 1],\n",
       "                         'vect__max_features': [1000, 5000, 10000, 30000],\n",
       "                         'vect__ngram_range': [(1, 1), (2, 2), (3, 3)],\n",
       "                         'vect__tokenizer': [<function tokenize_heb at 0x00000147C939FE50>]},\n",
       "             scoring='f1_macro')"
      ]
     },
     "execution_count": 25,
     "metadata": {},
     "output_type": "execute_result"
    },
    {
     "name": "stdout",
     "output_type": "stream",
     "text": [
      "Best parameter (CV score=0.625):\n",
      "{'clf_dt__max_depth': 7, 'clf_dt__min_samples_split': 50, 'vect__max_df': 0.75, 'vect__max_features': 5000, 'vect__ngram_range': (1, 1), 'vect__tokenizer': <function tokenize_heb at 0x00000147C939FE50>}\n"
     ]
    }
   ],
   "source": [
    "#Decision Tree TfidfVectorizer\n",
    "dt_tfidfv_pipe = Pipeline([\n",
    "    ('vect', TfidfVectorizer()),\n",
    "    ('clf_dt', DecisionTreeClassifier()),\n",
    "])\n",
    "dt_tfidfv_param_grid = {\n",
    "    \"vect__tokenizer\": [tokenize_heb],\n",
    "    \"vect__ngram_range\": [(1,1), (2,2), (3,3)],\n",
    "    \"vect__max_features\": [1000, 5000, 10000, 30000],\n",
    "    \"vect__max_df\": [0.5, 0.75, 1],\n",
    "    \"clf_dt__max_depth\": [3, 5, 7],\n",
    "    \"clf_dt__min_samples_split\": [30, 40, 50]\n",
    "}\n",
    "search_dt_tfidfv = GridSearchCV(dt_tfidfv_pipe, dt_tfidfv_param_grid, cv = 10, scoring='f1_macro')\n",
    "search_dt_tfidfv.fit(X, y)\n",
    "print(\"Best parameter (CV score=%0.3f):\" % search_dt_tfidfv.best_score_)\n",
    "print(search_dt_tfidfv.best_params_)"
   ]
  },
  {
   "cell_type": "markdown",
   "metadata": {},
   "source": [
    "Decision Tree\n",
    "* Best model: Desicion tree with CountVectorizer and the parameters: max_features = 1,000 and 1 word ngrams for the vectorizer,</br>l2 for the normalizer and max_depth = 7 and min_sample_split = 50 for the Decision tree.</br>\n",
    "* Average f1 score: 63.1%"
   ]
  },
  {
   "cell_type": "markdown",
   "metadata": {},
   "source": [
    "### <u>Perceptron</u>"
   ]
  },
  {
   "cell_type": "code",
   "execution_count": 26,
   "metadata": {},
   "outputs": [
    {
     "data": {
      "text/plain": [
       "GridSearchCV(cv=10,\n",
       "             estimator=Pipeline(steps=[('vect', CountVectorizer()),\n",
       "                                       ('norm', Normalizer()),\n",
       "                                       ('clf_perceptron',\n",
       "                                        Perceptron(random_state=42))]),\n",
       "             param_grid={'clf_perceptron__class_weight': ['balanced', None],\n",
       "                         'clf_perceptron__eta0': [0.01, 0.001, 0.0001],\n",
       "                         'clf_perceptron__penalty': ['l2', 'l1', 'elasticnet',\n",
       "                                                     None],\n",
       "                         'norm__norm': ['l1', 'l2'],\n",
       "                         'vect__max_features': [5000, 10000, 20000, 30000],\n",
       "                         'vect__ngram_range': [(1, 1), (2, 2), (3, 3)],\n",
       "                         'vect__tokenizer': [<function tokenize_heb at 0x00000147C939FE50>]},\n",
       "             scoring='f1_macro')"
      ]
     },
     "execution_count": 26,
     "metadata": {},
     "output_type": "execute_result"
    },
    {
     "name": "stdout",
     "output_type": "stream",
     "text": [
      "Best parameter (CV score=0.672):\n",
      "{'clf_perceptron__class_weight': 'balanced', 'clf_perceptron__eta0': 0.01, 'clf_perceptron__penalty': None, 'norm__norm': 'l2', 'vect__max_features': 20000, 'vect__ngram_range': (1, 1), 'vect__tokenizer': <function tokenize_heb at 0x00000147C939FE50>}\n"
     ]
    }
   ],
   "source": [
    "#Perceptron CountVectorizer\n",
    "per_cv_pipe = Pipeline([\n",
    "    ('vect', CountVectorizer()),\n",
    "    ('norm', preprocessing.Normalizer()),\n",
    "    ('clf_perceptron', Perceptron(random_state=42))\n",
    "])\n",
    "per_cv_param_grid = {\n",
    "    \"vect__tokenizer\": [tokenize_heb],\n",
    "    \"vect__ngram_range\": [(1,1), (2,2), (3,3)],\n",
    "    \"vect__max_features\": [5000, 10000, 20000, 30000],\n",
    "    \"norm__norm\": ['l1','l2'],\n",
    "    \"clf_perceptron__class_weight\": ['balanced', None],\n",
    "    \"clf_perceptron__eta0\": [0.01, 0.001, 0.0001],\n",
    "    \"clf_perceptron__penalty\": ['l2','l1','elasticnet', None]\n",
    "}\n",
    "search_per_cv = GridSearchCV(per_cv_pipe, per_cv_param_grid, cv = 10, scoring='f1_macro')\n",
    "search_per_cv.fit(X, y)\n",
    "print(\"Best parameter (CV score=%0.3f):\" % search_per_cv.best_score_)\n",
    "print(search_per_cv.best_params_)"
   ]
  },
  {
   "cell_type": "code",
   "execution_count": 27,
   "metadata": {},
   "outputs": [
    {
     "data": {
      "text/plain": [
       "GridSearchCV(cv=10,\n",
       "             estimator=Pipeline(steps=[('vect', TfidfVectorizer()),\n",
       "                                       ('clf_perceptron',\n",
       "                                        Perceptron(random_state=42))]),\n",
       "             param_grid={'clf_perceptron__class_weight': ['balanced', None],\n",
       "                         'clf_perceptron__eta0': [0.01, 0.001, 0.0001],\n",
       "                         'clf_perceptron__penalty': ['l2', 'l1', 'elasticnet',\n",
       "                                                     None],\n",
       "                         'vect__max_df': [0.5, 0.75, 1],\n",
       "                         'vect__max_features': [5000, 10000, 20000, 30000],\n",
       "                         'vect__ngram_range': [(1, 1), (2, 2), (3, 3)],\n",
       "                         'vect__tokenizer': [<function tokenize_heb at 0x00000147C939FE50>]},\n",
       "             scoring='f1_macro')"
      ]
     },
     "execution_count": 27,
     "metadata": {},
     "output_type": "execute_result"
    },
    {
     "name": "stdout",
     "output_type": "stream",
     "text": [
      "Best parameter (CV score=0.683):\n",
      "{'clf_perceptron__class_weight': 'balanced', 'clf_perceptron__eta0': 0.01, 'clf_perceptron__penalty': 'l1', 'vect__max_df': 0.5, 'vect__max_features': 30000, 'vect__ngram_range': (1, 1), 'vect__tokenizer': <function tokenize_heb at 0x00000147C939FE50>}\n"
     ]
    }
   ],
   "source": [
    "#Perceptron TfidfVectorizer\n",
    "per_tfidfv_pipe = Pipeline([\n",
    "    ('vect', TfidfVectorizer()),\n",
    "    ('clf_perceptron', Perceptron(random_state=42))\n",
    "])\n",
    "per_tfidfv_param_grid = {\n",
    "    \"vect__tokenizer\": [tokenize_heb],\n",
    "    \"vect__ngram_range\": [(1,1), (2,2), (3,3)],\n",
    "    \"vect__max_features\": [5000, 10000, 20000, 30000],\n",
    "    \"vect__max_df\": [0.5, 0.75, 1],\n",
    "    \"clf_perceptron__class_weight\": ['balanced', None],\n",
    "    \"clf_perceptron__eta0\": [0.01, 0.001, 0.0001],\n",
    "    \"clf_perceptron__penalty\": ['l2','l1','elasticnet', None]\n",
    "}\n",
    "search_per_tfidfv = GridSearchCV(per_tfidfv_pipe, per_tfidfv_param_grid, cv = 10, scoring='f1_macro')\n",
    "search_per_tfidfv.fit(X, y)\n",
    "print(\"Best parameter (CV score=%0.3f):\" % search_per_tfidfv.best_score_)\n",
    "print(search_per_tfidfv.best_params_)"
   ]
  },
  {
   "cell_type": "markdown",
   "metadata": {},
   "source": [
    "Perceptron\n",
    "* Best model: Perceptron with TfidfVectorizer with parameters: max_df =0.5, max_features= 30,000 and 1 word ngrams for the vectorizer,</br>and class_weight = balanced, eta = 0.01, and penalty = l1.</br>\n",
    "* Average f1 score: 68.3%"
   ]
  },
  {
   "cell_type": "markdown",
   "metadata": {},
   "source": [
    "### <u>SGD</u>"
   ]
  },
  {
   "cell_type": "code",
   "execution_count": 28,
   "metadata": {},
   "outputs": [
    {
     "data": {
      "text/plain": [
       "GridSearchCV(cv=10,\n",
       "             estimator=Pipeline(steps=[('vect', CountVectorizer()),\n",
       "                                       ('norm', Normalizer()),\n",
       "                                       ('clf_sgd',\n",
       "                                        SGDClassifier(random_state=42))]),\n",
       "             param_grid={'clf_sgd__class_weight': ['balanced', None],\n",
       "                         'clf_sgd__learning_rate': ['constant', 'optimal',\n",
       "                                                    'invscaling', 'adaptive'],\n",
       "                         'clf_sgd__loss': ['log', 'hinge'],\n",
       "                         'clf_sgd__penalty': ['l2', 'l1', 'elasticnet', None],\n",
       "                         'norm__norm': ['l1', 'l2'],\n",
       "                         'vect__max_features': [5000, 10000, 20000, 30000],\n",
       "                         'vect__ngram_range': [(1, 1), (2, 2), (3, 3)],\n",
       "                         'vect__tokenizer': [<function tokenize_heb at 0x00000147C939FE50>]},\n",
       "             scoring='f1_macro')"
      ]
     },
     "execution_count": 28,
     "metadata": {},
     "output_type": "execute_result"
    },
    {
     "name": "stdout",
     "output_type": "stream",
     "text": [
      "Best parameter (CV score=0.704):\n",
      "{'clf_sgd__class_weight': 'balanced', 'clf_sgd__learning_rate': 'optimal', 'clf_sgd__loss': 'hinge', 'clf_sgd__penalty': 'l2', 'norm__norm': 'l2', 'vect__max_features': 5000, 'vect__ngram_range': (1, 1), 'vect__tokenizer': <function tokenize_heb at 0x00000147C939FE50>}\n"
     ]
    }
   ],
   "source": [
    "#SGD CountVectorizer\n",
    "sgd_cv_pipe = Pipeline([\n",
    "    ('vect', CountVectorizer()),\n",
    "    ('norm', preprocessing.Normalizer()),\n",
    "    ('clf_sgd', SGDClassifier(random_state=42))\n",
    "])\n",
    "sgd_cv_param_grid = {\n",
    "    \"vect__tokenizer\": [tokenize_heb],\n",
    "    \"vect__ngram_range\": [(1,1), (2,2), (3,3)],\n",
    "    \"vect__max_features\": [5000, 10000, 20000, 30000],\n",
    "    \"norm__norm\": ['l1','l2'],\n",
    "    \"clf_sgd__class_weight\": ['balanced', None],\n",
    "    \"clf_sgd__loss\": ['log', 'hinge'],\n",
    "    \"clf_sgd__penalty\": ['l2','l1','elasticnet', None],\n",
    "    \"clf_sgd__learning_rate\": ['constant', 'optimal', 'invscaling', 'adaptive']\n",
    "}\n",
    "search_sgd_cv = GridSearchCV(sgd_cv_pipe, sgd_cv_param_grid, cv = 10, scoring='f1_macro')\n",
    "search_sgd_cv.fit(X, y)\n",
    "print(\"Best parameter (CV score=%0.3f):\" % search_sgd_cv.best_score_)\n",
    "print(search_sgd_cv.best_params_)"
   ]
  },
  {
   "cell_type": "code",
   "execution_count": 29,
   "metadata": {},
   "outputs": [
    {
     "data": {
      "text/plain": [
       "GridSearchCV(cv=10,\n",
       "             estimator=Pipeline(steps=[('vect', TfidfVectorizer()),\n",
       "                                       ('clf_sgd',\n",
       "                                        SGDClassifier(random_state=42))]),\n",
       "             param_grid={'clf_sgd__class_weight': ['balanced', None],\n",
       "                         'clf_sgd__learning_rate': ['constant', 'optimal',\n",
       "                                                    'invscaling', 'adaptive'],\n",
       "                         'clf_sgd__loss': ['log', 'hinge'],\n",
       "                         'clf_sgd__penalty': ['l2', 'l1', 'elasticnet', None],\n",
       "                         'vect__max_df': [0.5, 0.75, 1],\n",
       "                         'vect__max_features': [5000, 10000, 20000, 30000],\n",
       "                         'vect__ngram_range': [(1, 1), (2, 2), (3, 3)],\n",
       "                         'vect__tokenizer': [<function tokenize_heb at 0x00000147C939FE50>]},\n",
       "             scoring='f1_macro')"
      ]
     },
     "execution_count": 29,
     "metadata": {},
     "output_type": "execute_result"
    },
    {
     "name": "stdout",
     "output_type": "stream",
     "text": [
      "Best parameter (CV score=0.712):\n",
      "{'clf_sgd__class_weight': None, 'clf_sgd__learning_rate': 'optimal', 'clf_sgd__loss': 'hinge', 'clf_sgd__penalty': 'l1', 'vect__max_df': 0.75, 'vect__max_features': 30000, 'vect__ngram_range': (1, 1), 'vect__tokenizer': <function tokenize_heb at 0x00000147C939FE50>}\n"
     ]
    }
   ],
   "source": [
    "#SGD TfidfVectorizer\n",
    "sgd_tfidfv_pipe = Pipeline([\n",
    "    ('vect', TfidfVectorizer()),\n",
    "    ('clf_sgd', SGDClassifier(random_state=42))\n",
    "])\n",
    "sgd_tfidfv_param_grid = {\n",
    "    \"vect__tokenizer\": [tokenize_heb],\n",
    "    \"vect__ngram_range\": [(1,1), (2,2), (3,3)],\n",
    "    \"vect__max_features\": [5000, 10000, 20000, 30000],\n",
    "    \"vect__max_df\": [0.5, 0.75, 1],\n",
    "    \"clf_sgd__class_weight\": ['balanced', None],\n",
    "    \"clf_sgd__loss\": ['log', 'hinge'],\n",
    "    \"clf_sgd__penalty\": ['l2','l1','elasticnet', None],\n",
    "    \"clf_sgd__learning_rate\": ['constant', 'optimal', 'invscaling', 'adaptive']\n",
    "}\n",
    "search_sgd_tfidfv = GridSearchCV(sgd_tfidfv_pipe, sgd_tfidfv_param_grid, cv = 10, scoring='f1_macro')\n",
    "search_sgd_tfidfv.fit(X, y)\n",
    "print(\"Best parameter (CV score=%0.3f):\" % search_sgd_tfidfv.best_score_)\n",
    "print(search_sgd_tfidfv.best_params_)"
   ]
  },
  {
   "cell_type": "markdown",
   "metadata": {},
   "source": [
    "SGD\n",
    "* Best model: SGD with TfidfVectorizer with parameters: max_df = 0.75, max_features = 30,000 and 1 word ngrams for the vectorizer,</br> and class_weight = none, learning_rate = optimal, loss = hinge and penalty = l1 for the SGD. </br>\n",
    "* Average f1 score: 71.2%"
   ]
  },
  {
   "cell_type": "markdown",
   "metadata": {},
   "source": [
    "### <u>SVM</u>"
   ]
  },
  {
   "cell_type": "code",
   "execution_count": 30,
   "metadata": {},
   "outputs": [
    {
     "data": {
      "text/plain": [
       "GridSearchCV(cv=10,\n",
       "             estimator=Pipeline(steps=[('vect', CountVectorizer()),\n",
       "                                       ('norm', Normalizer()),\n",
       "                                       ('clf_svm',\n",
       "                                        LinearSVC(random_state=42))]),\n",
       "             param_grid={'clf_svm__C': [0.1, 1, 10],\n",
       "                         'clf_svm__class_weight': [None, 'balanced'],\n",
       "                         'norm__norm': ['l1', 'l2'],\n",
       "                         'vect__max_features': [5000, 10000, 20000, 30000],\n",
       "                         'vect__ngram_range': [(1, 1), (2, 2), (3, 3)],\n",
       "                         'vect__tokenizer': [<function tokenize_heb at 0x00000147C939FE50>]},\n",
       "             scoring='f1_macro')"
      ]
     },
     "execution_count": 30,
     "metadata": {},
     "output_type": "execute_result"
    },
    {
     "name": "stdout",
     "output_type": "stream",
     "text": [
      "Best parameter (CV score=0.709):\n",
      "{'clf_svm__C': 1, 'clf_svm__class_weight': 'balanced', 'norm__norm': 'l2', 'vect__max_features': 5000, 'vect__ngram_range': (1, 1), 'vect__tokenizer': <function tokenize_heb at 0x00000147C939FE50>}\n"
     ]
    }
   ],
   "source": [
    "#SVM CountVectorizer\n",
    "svm_cv_pipe = Pipeline([\n",
    "    ('vect', CountVectorizer()),\n",
    "    ('norm', preprocessing.Normalizer()),\n",
    "    ('clf_svm', LinearSVC(random_state = 42))\n",
    "])\n",
    "svm_cv_param_grid = {\n",
    "    \"vect__tokenizer\": [tokenize_heb],\n",
    "    \"vect__ngram_range\": [(1,1), (2,2), (3,3)],\n",
    "    \"vect__max_features\": [5000, 10000, 20000, 30000],\n",
    "    \"norm__norm\": ['l1','l2'],\n",
    "    'clf_svm__C': [0.1, 1, 10],\n",
    "    'clf_svm__class_weight': [None, 'balanced']\n",
    "}\n",
    "search_svm_cv = GridSearchCV(svm_cv_pipe, svm_cv_param_grid, cv = 10, scoring='f1_macro')\n",
    "search_svm_cv.fit(X, y)\n",
    "print(\"Best parameter (CV score=%0.3f):\" % search_svm_cv.best_score_)\n",
    "print(search_svm_cv.best_params_)"
   ]
  },
  {
   "cell_type": "code",
   "execution_count": 31,
   "metadata": {},
   "outputs": [
    {
     "data": {
      "text/plain": [
       "GridSearchCV(cv=10,\n",
       "             estimator=Pipeline(steps=[('vect', TfidfVectorizer()),\n",
       "                                       ('clf_svm',\n",
       "                                        LinearSVC(random_state=42))]),\n",
       "             param_grid={'clf_svm__C': [0.1, 1, 10],\n",
       "                         'clf_svm__class_weight': [None, 'balanced'],\n",
       "                         'vect__max_df': [0.5, 0.75, 1],\n",
       "                         'vect__max_features': [5000, 10000, 20000, 30000],\n",
       "                         'vect__ngram_range': [(1, 1), (2, 2), (3, 3)],\n",
       "                         'vect__tokenizer': [<function tokenize_heb at 0x00000147C939FE50>]},\n",
       "             scoring='f1_macro')"
      ]
     },
     "execution_count": 31,
     "metadata": {},
     "output_type": "execute_result"
    },
    {
     "name": "stdout",
     "output_type": "stream",
     "text": [
      "Best parameter (CV score=0.686):\n",
      "{'clf_svm__C': 0.1, 'clf_svm__class_weight': 'balanced', 'vect__max_df': 0.5, 'vect__max_features': 10000, 'vect__ngram_range': (1, 1), 'vect__tokenizer': <function tokenize_heb at 0x00000147C939FE50>}\n"
     ]
    }
   ],
   "source": [
    "#SVM TfidfVectorizer\n",
    "svm_tfidfv_pipe = Pipeline([\n",
    "    ('vect', TfidfVectorizer(no)),\n",
    "    ('clf_svm', LinearSVC(random_state = 42))\n",
    "])\n",
    "svm_tfidfv_param_grid = {\n",
    "    \"vect__tokenizer\": [tokenize_heb],\n",
    "    \"vect__ngram_range\": [(1,1), (2,2), (3,3)],\n",
    "    \"vect__max_features\": [5000, 10000, 20000, 30000],\n",
    "    \"vect__max_df\": [0.5, 0.75, 1],\n",
    "    'clf_svm__C': [0.1, 1, 10],\n",
    "    'clf_svm__class_weight': [None, 'balanced']\n",
    "}\n",
    "search_svm_tfidfv = GridSearchCV(svm_tfidfv_pipe, svm_tfidfv_param_grid, cv = 10, scoring='f1_macro')\n",
    "search_svm_tfidfv.fit(X, y)\n",
    "print(\"Best parameter (CV score=%0.3f):\" % search_svm_tfidfv.best_score_)\n",
    "print(search_svm_tfidfv.best_params_)"
   ]
  },
  {
   "cell_type": "markdown",
   "metadata": {},
   "source": [
    "SVM\n",
    "* Best model: SVM with CountVectorizer with parameters: max_featurs = 5,000 and 1 word ngram for the vectorizer,</br>l2 for the normalizer and C = 1 and class_weight = balanced for the SVM. </br>\n",
    "* Average f1 score: 70.9%"
   ]
  },
  {
   "cell_type": "markdown",
   "metadata": {},
   "source": [
    "### <u>Choosing the best model</u>"
   ]
  },
  {
   "cell_type": "markdown",
   "metadata": {},
   "source": [
    "Our best model was SGDClassifier with TfidfVectorizer.</br>\n",
    "It achieved 71.2% in the average f1 score.</br>\n",
    "We chose this model to predict the test set."
   ]
  },
  {
   "cell_type": "code",
   "execution_count": 66,
   "metadata": {},
   "outputs": [
    {
     "data": {
      "text/html": [
       "<div>\n",
       "<style scoped>\n",
       "    .dataframe tbody tr th:only-of-type {\n",
       "        vertical-align: middle;\n",
       "    }\n",
       "\n",
       "    .dataframe tbody tr th {\n",
       "        vertical-align: top;\n",
       "    }\n",
       "\n",
       "    .dataframe thead th {\n",
       "        text-align: right;\n",
       "    }\n",
       "</style>\n",
       "<table border=\"1\" class=\"dataframe\">\n",
       "  <thead>\n",
       "    <tr style=\"text-align: right;\">\n",
       "      <th></th>\n",
       "      <th>test_example_id</th>\n",
       "      <th>predicted_category</th>\n",
       "    </tr>\n",
       "  </thead>\n",
       "  <tbody>\n",
       "    <tr>\n",
       "      <th>0</th>\n",
       "      <td>0</td>\n",
       "      <td>m</td>\n",
       "    </tr>\n",
       "    <tr>\n",
       "      <th>1</th>\n",
       "      <td>1</td>\n",
       "      <td>m</td>\n",
       "    </tr>\n",
       "    <tr>\n",
       "      <th>2</th>\n",
       "      <td>2</td>\n",
       "      <td>m</td>\n",
       "    </tr>\n",
       "    <tr>\n",
       "      <th>3</th>\n",
       "      <td>3</td>\n",
       "      <td>m</td>\n",
       "    </tr>\n",
       "    <tr>\n",
       "      <th>4</th>\n",
       "      <td>4</td>\n",
       "      <td>m</td>\n",
       "    </tr>\n",
       "  </tbody>\n",
       "</table>\n",
       "</div>"
      ],
      "text/plain": [
       "   test_example_id predicted_category\n",
       "0                0                  m\n",
       "1                1                  m\n",
       "2                2                  m\n",
       "3                3                  m\n",
       "4                4                  m"
      ]
     },
     "execution_count": 66,
     "metadata": {},
     "output_type": "execute_result"
    },
    {
     "data": {
      "text/html": [
       "<div>\n",
       "<style scoped>\n",
       "    .dataframe tbody tr th:only-of-type {\n",
       "        vertical-align: middle;\n",
       "    }\n",
       "\n",
       "    .dataframe tbody tr th {\n",
       "        vertical-align: top;\n",
       "    }\n",
       "\n",
       "    .dataframe thead th {\n",
       "        text-align: right;\n",
       "    }\n",
       "</style>\n",
       "<table border=\"1\" class=\"dataframe\">\n",
       "  <thead>\n",
       "    <tr style=\"text-align: right;\">\n",
       "      <th></th>\n",
       "      <th>test_example_id</th>\n",
       "      <th>predicted_category</th>\n",
       "    </tr>\n",
       "  </thead>\n",
       "  <tbody>\n",
       "    <tr>\n",
       "      <th>318</th>\n",
       "      <td>318</td>\n",
       "      <td>m</td>\n",
       "    </tr>\n",
       "    <tr>\n",
       "      <th>319</th>\n",
       "      <td>319</td>\n",
       "      <td>m</td>\n",
       "    </tr>\n",
       "    <tr>\n",
       "      <th>320</th>\n",
       "      <td>320</td>\n",
       "      <td>m</td>\n",
       "    </tr>\n",
       "    <tr>\n",
       "      <th>321</th>\n",
       "      <td>321</td>\n",
       "      <td>m</td>\n",
       "    </tr>\n",
       "    <tr>\n",
       "      <th>322</th>\n",
       "      <td>322</td>\n",
       "      <td>m</td>\n",
       "    </tr>\n",
       "  </tbody>\n",
       "</table>\n",
       "</div>"
      ],
      "text/plain": [
       "     test_example_id predicted_category\n",
       "318              318                  m\n",
       "319              319                  m\n",
       "320              320                  m\n",
       "321              321                  m\n",
       "322              322                  m"
      ]
     },
     "execution_count": 66,
     "metadata": {},
     "output_type": "execute_result"
    },
    {
     "data": {
      "text/plain": [
       "m    262\n",
       "f     61\n",
       "Name: predicted_category, dtype: int64"
      ]
     },
     "execution_count": 66,
     "metadata": {},
     "output_type": "execute_result"
    }
   ],
   "source": [
    "y_pred = search_sgd_tfidfv.predict(df_test['story'])\n",
    "y_pred = label_encoder.inverse_transform(y_pred)\n",
    "df_predicted = pd.DataFrame({'test_example_id': df_test[\"test_example_id\"], 'predicted_category': y_pred})\n",
    "df_predicted.head(5)\n",
    "df_predicted.tail(5)\n",
    "df_predicted['predicted_category'].value_counts()"
   ]
  },
  {
   "cell_type": "markdown",
   "metadata": {},
   "source": [
    "### Save output to csv (optional)\n",
    "After you're done save your output to the 'classification_results.csv' csv file.<br/>\n",
    "We assume that the dataframe with your results contain the following columns:\n",
    "* column 1 (left column): 'test_example_id'  - the same id associated to each of the test stories to be predicted.\n",
    "* column 2 (right column): 'predicted_category' - the predicted gender value for each of the associated story. \n",
    "\n",
    "Assuming your predicted values are in the `df_predicted` dataframe, you should save you're results as following:"
   ]
  },
  {
   "cell_type": "code",
   "execution_count": 67,
   "metadata": {},
   "outputs": [],
   "source": [
    "df_predicted.to_csv('classification_results.csv',index=False)"
   ]
  }
 ],
 "metadata": {
  "celltoolbar": "Create Assignment",
  "kernelspec": {
   "display_name": "Python 3 (ipykernel)",
   "language": "python",
   "name": "python3"
  },
  "language_info": {
   "codemirror_mode": {
    "name": "ipython",
    "version": 3
   },
   "file_extension": ".py",
   "mimetype": "text/x-python",
   "name": "python",
   "nbconvert_exporter": "python",
   "pygments_lexer": "ipython3",
   "version": "3.9.13"
  }
 },
 "nbformat": 4,
 "nbformat_minor": 4
}
